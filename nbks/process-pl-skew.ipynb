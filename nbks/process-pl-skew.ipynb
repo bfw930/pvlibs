{
 "cells": [
  {
   "cell_type": "code",
   "execution_count": 1,
   "metadata": {},
   "outputs": [],
   "source": [
    "''' FOR DEVELOPMENT ONLY, DELETE CELL '''\n",
    "\n",
    "# set auto reload imported modules tagged\n",
    "%load_ext autoreload\n",
    "%autoreload 2\n",
    "\n",
    "# data array processing\n",
    "#import numpy as np\n",
    "#import pandas as pd\n",
    "\n",
    "# plotting with matplotlib\n",
    "#%matplotlib widget\n",
    "#from matplotlib import pyplot as plt\n",
    "\n",
    "## development override params\n",
    "pvlibs_path = '/home/brendan/dev/pvlibs'\n",
    "# base_path = '../data/slt'\n"
   ]
  },
  {
   "cell_type": "code",
   "execution_count": 2,
   "metadata": {},
   "outputs": [],
   "source": [
    "''' initialise notebook '''\n",
    "\n",
    "# add location to path\n",
    "#pvlibs_path = '/srv/pvlibs'\n",
    "import sys\n",
    "sys.path.append(pvlibs_path)\n",
    "\n",
    "# plotting with matplotlib, set interactive figure display\n",
    "%matplotlib widget\n",
    "\n",
    "# import pvlibs package\n",
    "import pvlibs\n"
   ]
  },
  {
   "cell_type": "code",
   "execution_count": 3,
   "metadata": {},
   "outputs": [],
   "source": [
    "# data array processing\n",
    "import numpy as np\n",
    "\n",
    "# plotting framework\n",
    "import matplotlib.pyplot as plt\n",
    "\n",
    "\n",
    "import matplotlib.colors as colors\n",
    "import matplotlib.cm as cmx\n",
    "\n",
    "\n",
    "# image processing\n",
    "import PIL\n",
    "\n",
    "from scipy import ndimage\n"
   ]
  },
  {
   "cell_type": "code",
   "execution_count": 4,
   "metadata": {},
   "outputs": [],
   "source": [
    "''' initialise blank database '''\n",
    "\n",
    "db = []\n"
   ]
  },
  {
   "cell_type": "code",
   "execution_count": 6,
   "metadata": {
    "collapsed": true,
    "jupyter": {
     "outputs_hidden": true
    }
   },
   "outputs": [
    {
     "name": "stdout",
     "output_type": "stream",
     "text": [
      "begin file search and import \n",
      "\n",
      "imported reference to file: H393-SR4-145C100A-B_14-09-18_15-22-43-.69_exp_30ms.tif\n",
      "imported reference to file: H393-SR4-145C100A-B_14-09-18_15-23-22-.76_exp_30ms.tif\n",
      "imported reference to file: H393-SR4-145C100A-B_14-09-18_15-23-20-.16_exp_30ms.tif\n",
      "imported reference to file: H393-SR4-145C100A-B_14-09-18_15-23-27-.96_exp_30ms.tif\n",
      "imported reference to file: H393-SR4-145C100A-B_14-09-18_15-22-53-.34_exp_30ms.tif\n",
      "imported reference to file: H393-SR4-145C100A-B_14-09-18_15-22-45-.01_exp_30ms.tif\n",
      "imported reference to file: H393-SR4-145C100A-B_14-09-18_15-23-07-.15_exp_30ms.tif\n",
      "imported reference to file: H393-SR4-145C100A-B_14-09-18_15-22-59-.35_exp_30ms.tif\n",
      "imported reference to file: H393-SR4-145C100A-B_14-09-18_15-22-44-.04_exp_30ms.tif\n",
      "imported reference to file: H393-SR4-145C100A-B_14-09-18_15-22-44-.38_exp_30ms.tif\n",
      "imported reference to file: H393-SR4-145C100A-B_14-09-18_15-23-30-.56_exp_30ms.tif\n",
      "imported reference to file: H393-SR4-145C100A-B_14-09-18_15-22-43-.98_exp_30ms.tif\n",
      "imported reference to file: H393-SR4-145C100A-B_14-09-18_15-23-33-.17_exp_30ms.tif\n",
      "imported reference to file: H393-SR4-145C100A-B_14-09-18_15-23-59-.18_exp_30ms.tif\n",
      "imported reference to file: H393-SR4-145C100A-B_14-09-18_15-22-44-.84_exp_30ms.tif\n",
      "imported reference to file: H393-SR4-145C100A-B_14-09-18_15-22-55-.42_exp_30ms.tif\n",
      "imported reference to file: H393-SR4-145C100A-B_14-09-18_15-22-44-.62_exp_30ms.tif\n",
      "imported reference to file: H393-SR4-145C100A-B_14-09-18_15-22-44-.10_exp_30ms.tif\n",
      "imported reference to file: H393-SR4-145C100A-B_14-09-18_15-23-56-.58_exp_30ms.tif\n",
      "imported reference to file: H393-SR4-145C100A-B_14-09-18_15-23-40-.97_exp_30ms.tif\n",
      "imported reference to file: H393-SR4-145C100A-B_14-09-18_15-22-45-.36_exp_30ms.tif\n",
      "imported reference to file: H393-SR4-145C100A-B_14-09-18_15-22-44-.67_exp_30ms.tif\n",
      "imported reference to file: H393-SR4-145C100A-B_14-09-18_15-22-44-.21_exp_30ms.tif\n",
      "imported reference to file: H393-SR4-145C100A-B_14-09-18_15-22-44-.33_exp_30ms.tif\n",
      "imported reference to file: H393-SR4-145C100A-B_14-09-18_15-23-48-.77_exp_30ms.tif\n",
      "imported reference to file: H393-SR4-145C100A-B_14-09-18_15-23-17-.56_exp_30ms.tif\n",
      "imported reference to file: H393-SR4-145C100A-B_14-09-18_15-23-43-.57_exp_30ms.tif\n",
      "imported reference to file: H393-SR4-145C100A-B_14-09-18_15-23-53-.98_exp_30ms.tif\n",
      "imported reference to file: H393-SR4-145C100A-B_14-09-18_15-24-12-.18_exp_30ms.tif\n",
      "imported reference to file: H393-SR4-145C100A-B_14-09-18_15-23-14-.96_exp_30ms.tif\n",
      "imported reference to file: H393-SR4-145C100A-B_14-09-18_15-22-51-.26_exp_30ms.tif\n",
      "imported reference to file: H393-SR4-145C100A-B_14-09-18_15-22-52-.65_exp_30ms.tif\n",
      "imported reference to file: H393-SR4-145C100A-B_14-09-18_15-22-44-.50_exp_30ms.tif\n",
      "imported reference to file: H393-SR4-145C100A-B_14-09-18_15-23-01-.95_exp_30ms.tif\n",
      "imported reference to file: H393-SR4-145C100A-B_14-09-18_15-22-48-.48_exp_30ms.tif\n",
      "imported reference to file: H393-SR4-145C100A-B_14-09-18_15-24-06-.98_exp_30ms.tif\n",
      "imported reference to file: H393-SR4-145C100A-B_14-09-18_15-22-43-.76_exp_30ms.tif\n",
      "imported reference to file: H393-SR4-145C100A-B_14-09-18_15-22-50-.56_exp_30ms.tif\n",
      "imported reference to file: H393-SR4-145C100A-B_14-09-18_15-23-25-.36_exp_30ms.tif\n",
      "imported reference to file: H393-SR4-145C100A-B_14-09-18_15-22-47-.79_exp_30ms.tif\n",
      "imported reference to file: H393-SR4-145C100A-B_14-09-18_15-22-43-.81_exp_30ms.tif\n",
      "imported reference to file: H393-SR4-145C100A-B_14-09-18_15-22-51-.95_exp_30ms.tif\n",
      "imported reference to file: H393-SR4-145C100A-B_14-09-18_15-22-46-.40_exp_30ms.tif\n",
      "imported reference to file: H393-SR4-145C100A-B_14-09-18_15-22-44-.56_exp_30ms.tif\n",
      "imported reference to file: H393-SR4-145C100A-B_14-09-18_15-22-49-.87_exp_30ms.tif\n",
      "imported reference to file: H393-SR4-145C100A-B_14-09-18_15-23-38-.37_exp_30ms.tif\n",
      "imported reference to file: H393-SR4-145C100A-B_14-09-18_15-22-43-.87_exp_30ms.tif\n",
      "imported reference to file: H393-SR4-145C100A-B_14-09-18_15-22-46-.06_exp_30ms.tif\n",
      "imported reference to file: H393-SR4-145C100A-B_14-09-18_15-22-44-.73_exp_30ms.tif\n",
      "imported reference to file: H393-SR4-145C100A-B_14-09-18_15-22-44-.45_exp_30ms.tif\n",
      "imported reference to file: H393-SR4-145C100A-B_14-09-18_15-24-14-.78_exp_30ms.tif\n",
      "imported reference to file: H393-SR4-145C100A-B_14-09-18_15-22-47-.10_exp_30ms.tif\n",
      "imported reference to file: H393-SR4-145C100A-B_14-09-18_15-22-56-.75_exp_30ms.tif\n",
      "imported reference to file: H393-SR4-145C100A-B_14-09-18_15-24-09-.58_exp_30ms.tif\n",
      "imported reference to file: H393-SR4-145C100A-B_14-09-18_15-22-44-.28_exp_30ms.tif\n",
      "imported reference to file: H393-SR4-145C100A-B_14-09-18_15-22-44-.15_exp_30ms.tif\n",
      "imported reference to file: H393-SR4-145C100A-B_14-09-18_15-22-43-.92_exp_30ms.tif\n",
      "imported reference to file: H393-SR4-145C100A-B_14-09-18_15-23-09-.75_exp_30ms.tif\n",
      "imported reference to file: H393-SR4-145C100A-B_14-09-18_15-22-45-.71_exp_30ms.tif\n",
      "imported reference to file: H393-SR4-145C100A-B_14-09-18_15-23-35-.77_exp_30ms.tif\n",
      "imported reference to file: H393-SR4-145C100A-B_14-09-18_15-24-04-.38_exp_30ms.tif\n",
      "imported reference to file: H393-SR4-145C100A-B_14-09-18_15-22-49-.18_exp_30ms.tif\n",
      "imported reference to file: H393-SR4-145C100A-B_14-09-18_15-24-17-.39_exp_30ms.tif\n",
      "imported reference to file: H393-SR4-145C100A-B_14-09-18_15-22-54-.73_exp_30ms.tif\n",
      "imported reference to file: H393-SR4-145C100A-B_14-09-18_15-24-01-.78_exp_30ms.tif\n",
      "imported reference to file: H393-SR4-145C100A-B_14-09-18_15-23-04-.55_exp_30ms.tif\n",
      "imported reference to file: H393-SR4-145C100A-B_14-09-18_15-24-19-.99_exp_30ms.tif\n",
      "imported reference to file: H393-SR4-145C100A-B_14-09-18_15-23-12-.36_exp_30ms.tif\n",
      "imported reference to file: H393-SR4-145C100A-B_14-09-18_15-22-54-.03_exp_30ms.tif\n",
      "imported reference to file: H393-SR4-145C100A-B_14-09-18_15-24-22-.59_exp_30ms.tif\n",
      "imported reference to file: H393-SR4-145C100A-B_14-09-18_15-23-46-.17_exp_30ms.tif\n",
      "imported reference to file: H393-SR4-145C100A-B_14-09-18_15-23-51-.37_exp_30ms.tif\n",
      "\n",
      "file search and import complete\n",
      "\n",
      "72 measurement file references imported\n"
     ]
    }
   ],
   "source": [
    "''' import intitial state measurement files '''\n",
    "\n",
    "# define directory to search; \"./\" for current directory, \"../\" for up one directory\n",
    "base_path = '../data/in-situ-pl/'\n",
    "\n",
    "# define measurement properties (!required!)\n",
    "props = {\n",
    "    \n",
    "    # define measurement properties\n",
    "    'state': 'init',\n",
    "    \n",
    "    # measurement type\n",
    "    'meas_type': 'ocpl', # 'ocpl' for open-circuit photoluminescence\n",
    "    'file_ext': 'tif', # ['tif']\n",
    "    'file_type': 'tif', # ['tif']\n",
    "    \n",
    "    # wafer properties\n",
    "    \n",
    "    # measurement conditions\n",
    "    'exposure': 0.5, # define global pl exposure, read from file if available\n",
    "\n",
    "}\n",
    "\n",
    "# generate measurement file database\n",
    "db = [ *db, *pvlibs.init_file_db(base_path, props) ][:5]\n"
   ]
  },
  {
   "cell_type": "code",
   "execution_count": 7,
   "metadata": {},
   "outputs": [
    {
     "name": "stdout",
     "output_type": "stream",
     "text": [
      "begin file data import \n",
      "\n",
      "importing: file 1/5\n",
      "importing: file 2/5\n",
      "importing: file 3/5\n",
      "importing: file 4/5\n",
      "importing: file 5/5\n",
      "\n",
      "data file import complete\n",
      "\n",
      "data imported from 5 files\n"
     ]
    }
   ],
   "source": [
    "''' import image data '''\n",
    "\n",
    "# import data from files\n",
    "db = pvlibs.import_file_data(db)\n"
   ]
  },
  {
   "cell_type": "code",
   "execution_count": 37,
   "metadata": {},
   "outputs": [
    {
     "name": "stderr",
     "output_type": "stream",
     "text": [
      "/home/brendan/.local/share/virtualenvs/pvlibs-eBwkAMkm/lib/python3.7/site-packages/ipykernel_launcher.py:8: RuntimeWarning: More than 20 figures have been opened. Figures created through the pyplot interface (`matplotlib.pyplot.figure`) are retained until explicitly closed and may consume too much memory. (To control this warning, see the rcParam `figure.max_open_warning`).\n",
      "  \n"
     ]
    },
    {
     "data": {
      "application/vnd.jupyter.widget-view+json": {
       "model_id": "e871f60ceaa6425fbb2369b57e3b9625",
       "version_major": 2,
       "version_minor": 0
      },
      "text/plain": [
       "Canvas(toolbar=Toolbar(toolitems=[('Home', 'Reset original view', 'home', 'home'), ('Back', 'Back to previous …"
      ]
     },
     "metadata": {},
     "output_type": "display_data"
    }
   ],
   "source": [
    "''' plot pl images and diff '''\n",
    "\n",
    "## select test images\n",
    "ref = db[4]['raw_img']\n",
    "\n",
    "\n",
    "# intialise figure\n",
    "_w = 8; _h = 4; fig = plt.figure(figsize = (_w, _h))\n",
    "fig.canvas.layout.width = '{}in'.format(_w); fig.canvas.layout.height= '{}in'.format(_h)\n",
    "\n",
    "# initialise axes\n",
    "n = 2; ax = [ fig.add_subplot(1,n,i+1) for i in list(range(n)) ]\n",
    "for i in range(n):\n",
    "    ax[i].grid(); ax[i].set_xticks([]); ax[i].set_yticks([])\n",
    "\n",
    "\n",
    "# initialise colormap, set normalise, for img and ref pl images\n",
    "cnorm  = colors.Normalize(vmin = 0, vmax = ref.max()*1.05)\n",
    "smap = cmx.ScalarMappable(norm = cnorm, cmap = 'magma')\n",
    "\n",
    "# plot reference\n",
    "ax[0].imshow(ref, cmap='magma', norm = cnorm)\n",
    "#cbar = plt.colorbar(smap, ax = ax[0],fraction=0.046, pad=0.04)\n",
    "#cbar.set_ticks([])\n",
    "\n",
    "h,l = ref.shape\n",
    "dl = 140\n",
    "\n",
    "def mapping(img):\n",
    "    l , c = img\n",
    "    dec = (dl*(l-h))/h\n",
    "    return l , c + dec\n",
    "\n",
    "adj = ndimage.geometric_transform(ref, mapping)\n",
    "\n",
    "#.affine_transform(ref, matrix = , offset = 0.0)\n",
    "\n",
    "ax[1].imshow(adj, cmap='magma', norm = cnorm)\n",
    "\n",
    "\n",
    "# display figure\n",
    "plt.tight_layout()\n",
    "plt.show()\n"
   ]
  },
  {
   "cell_type": "code",
   "execution_count": 17,
   "metadata": {},
   "outputs": [
    {
     "data": {
      "application/vnd.jupyter.widget-view+json": {
       "model_id": "e7387cfe43ab4cf695a8de91a83e32e2",
       "version_major": 2,
       "version_minor": 0
      },
      "text/plain": [
       "Canvas(toolbar=Toolbar(toolitems=[('Home', 'Reset original view', 'home', 'home'), ('Back', 'Back to previous …"
      ]
     },
     "metadata": {},
     "output_type": "display_data"
    }
   ],
   "source": [
    "''' plot pl images and diff '''\n",
    "\n",
    "# select nodes by device\n",
    "device = 'P27'\n",
    "\n",
    "# select nodes by device\n",
    "nodes = [ n for n in db if n['device'] in [device] ]\n",
    "\n",
    "# split nodes by device state\n",
    "_init = [ n for n in nodes if n['state'] in states[:1] ][0]\n",
    "_proc = [ n for n in nodes if n['state'] in states[-1:] ][0]\n",
    "\n",
    "_diff = [ n for n in diff_db if n['device'] in [device] ][0]\n",
    "\n",
    "## select test images\n",
    "ref = _init['trim_img'] ## control image\n",
    "img = _proc['trim_img']\n",
    "dif = _diff['trim_img']\n",
    "\n",
    "\n",
    "# intialise figure\n",
    "_w =12; _h = 4; fig = plt.figure(figsize = (_w, _h))\n",
    "fig.canvas.layout.width = '{}in'.format(_w); fig.canvas.layout.height= '{}in'.format(_h)\n",
    "\n",
    "# initialise axes\n",
    "n = 3; ax = [ fig.add_subplot(1,n,i+1) for i in list(range(n)) ]\n",
    "for i in range(n):\n",
    "    ax[i].grid(); ax[i].set_xticks([]); ax[i].set_yticks([])\n",
    "    \n",
    "\n",
    "# set figure title as device id\n",
    "ax[1].set_title('Device: {}'.format(device))\n",
    "\n",
    "\n",
    "# initialise colormap, set normalise, for img and ref pl images\n",
    "cnorm  = colors.Normalize(vmin = 0, vmax = ref.max()*1.05)\n",
    "smap = cmx.ScalarMappable(norm = cnorm, cmap = 'magma')\n",
    "\n",
    "# plot reference\n",
    "ax[0].imshow(ref, cmap='magma', norm = cnorm)\n",
    "cbar = plt.colorbar(smap, ax = ax[0],fraction=0.046, pad=0.04)\n",
    "#cbar.set_ticks([])\n",
    "\n",
    "# plot image\n",
    "ax[1].imshow(img, cmap='magma', norm = cnorm)\n",
    "cbar = plt.colorbar(smap, ax = ax[1],fraction=0.046, pad=0.04)\n",
    "#cbar.set_ticks([])\n",
    "cbar.set_label('PL Intensity (cnts.)')\n",
    "\n",
    "\n",
    "# calculate range +- from zero for diff cmap norm\n",
    "sc = np.max( [np.abs(dif.max()), np.abs(dif.min()) ] ) * 1.05\n",
    "\n",
    "# calculate norm for diff image\n",
    "cnorm  = colors.Normalize(vmin = -sc, vmax = sc)\n",
    "smap = cmx.ScalarMappable(norm = cnorm, cmap = 'RdBu')\n",
    "\n",
    "# plot difference image\n",
    "ax[2].imshow(dif, cmap = 'RdBu', norm = cnorm)\n",
    "cbar = plt.colorbar(smap, ax = ax[2],fraction=0.046, pad=0.04)\n",
    "#cbar.set_ticks([])\n",
    "cbar.set_label('Relative Change (%)')\n",
    "\n",
    "\n",
    "# display figure\n",
    "plt.tight_layout()\n",
    "plt.show()\n"
   ]
  },
  {
   "cell_type": "code",
   "execution_count": null,
   "metadata": {},
   "outputs": [],
   "source": []
  }
 ],
 "metadata": {
  "kernelspec": {
   "display_name": "pvlibs",
   "language": "python",
   "name": "pvlibs"
  },
  "language_info": {
   "codemirror_mode": {
    "name": "ipython",
    "version": 3
   },
   "file_extension": ".py",
   "mimetype": "text/x-python",
   "name": "python",
   "nbconvert_exporter": "python",
   "pygments_lexer": "ipython3",
   "version": "3.7.4"
  }
 },
 "nbformat": 4,
 "nbformat_minor": 4
}
