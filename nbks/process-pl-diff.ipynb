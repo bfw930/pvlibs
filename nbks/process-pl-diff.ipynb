{
 "cells": [
  {
   "cell_type": "code",
   "execution_count": 1,
   "metadata": {},
   "outputs": [],
   "source": [
    "''' FOR DEVELOPMENT ONLY, DELETE CELL '''\n",
    "\n",
    "# set auto reload imported modules tagged\n",
    "%load_ext autoreload\n",
    "%autoreload 2\n",
    "\n",
    "# data array processing\n",
    "#import numpy as np\n",
    "#import pandas as pd\n",
    "\n",
    "# plotting with matplotlib\n",
    "#%matplotlib widget\n",
    "#from matplotlib import pyplot as plt\n",
    "\n",
    "## development override params\n",
    "pvlibs_path = '/home/brendan/dev/pvlibs'\n",
    "# base_path = '../data/slt'\n"
   ]
  },
  {
   "cell_type": "code",
   "execution_count": 2,
   "metadata": {},
   "outputs": [],
   "source": [
    "''' initialise notebook '''\n",
    "\n",
    "# add location to path\n",
    "#pvlibs_path = '/srv/pvlibs'\n",
    "import sys\n",
    "sys.path.append(pvlibs_path)\n",
    "\n",
    "# plotting with matplotlib, set interactive figure display\n",
    "%matplotlib widget\n",
    "\n",
    "# import pvlibs package\n",
    "import pvlibs\n"
   ]
  },
  {
   "cell_type": "code",
   "execution_count": 3,
   "metadata": {},
   "outputs": [],
   "source": [
    "# data array processing\n",
    "import numpy as np\n",
    "\n",
    "# plotting framework\n",
    "import matplotlib.pyplot as plt\n",
    "\n",
    "# image processing\n",
    "import PIL\n"
   ]
  },
  {
   "cell_type": "code",
   "execution_count": 4,
   "metadata": {
    "collapsed": true,
    "jupyter": {
     "outputs_hidden": true
    }
   },
   "outputs": [
    {
     "name": "stdout",
     "output_type": "stream",
     "text": [
      "begin file search and import \n",
      "\n",
      "imported reference to file: 21391 - LDSE_P08 (Delta n Image).tif\n",
      "imported reference to file: 21391 - LDSE_P08 (Uncalibrated PL Image).tif\n",
      "imported reference to file: 21391 - LDSE_P08 (Calibrated Lifetime Image).tif\n",
      "imported reference to file: 21406 - LDSE_P04 (Delta n Image).tif\n",
      "imported reference to file: 21406 - LDSE_P04 (Calibrated Lifetime Image).tif\n",
      "imported reference to file: 21406 - LDSE_P04 (Uncalibrated PL Image).tif\n",
      "imported reference to file: 21381 - LDSE_P06 (Uncalibrated PL Image).tif\n",
      "imported reference to file: 21381 - LDSE_P06 (Delta n Image).tif\n",
      "imported reference to file: 21381 - LDSE_P06 (Calibrated Lifetime Image).tif\n",
      "imported reference to file: 21387 - LDSE_P29 (Delta n Image).tif\n",
      "imported reference to file: 21387 - LDSE_P29 (Uncalibrated PL Image).tif\n",
      "imported reference to file: 21387 - LDSE_P29 (Calibrated Lifetime Image).tif\n",
      "imported reference to file: 21413 - LDSE_P25 (Delta n Image).tif\n",
      "imported reference to file: 21413 - LDSE_P25 (Calibrated Lifetime Image).tif\n",
      "imported reference to file: 21413 - LDSE_P25 (Uncalibrated PL Image).tif\n",
      "imported reference to file: 21412 - LDSE_P24 (Uncalibrated PL Image).tif\n",
      "imported reference to file: 21412 - LDSE_P24 (Calibrated Lifetime Image).tif\n",
      "imported reference to file: 21412 - LDSE_P24 (Delta n Image).tif\n",
      "imported reference to file: 21404 - LDSE_P02 (Uncalibrated PL Image).tif\n",
      "imported reference to file: 21404 - LDSE_P02 (Calibrated Lifetime Image).tif\n",
      "imported reference to file: 21404 - LDSE_P02 (Delta n Image).tif\n",
      "imported reference to file: 21403 - LDSE_P01 (Uncalibrated PL Image).tif\n",
      "imported reference to file: 21403 - LDSE_P01 (Delta n Image).tif\n",
      "imported reference to file: 21403 - LDSE_P01 (Calibrated Lifetime Image).tif\n",
      "imported reference to file: 21388 - LDSE_P44 (Calibrated Lifetime Image).tif\n",
      "imported reference to file: 21388 - LDSE_P44 (Delta n Image).tif\n",
      "imported reference to file: 21388 - LDSE_P44 (Uncalibrated PL Image).tif\n",
      "imported reference to file: 21414 - LDSE_P26 (Uncalibrated PL Image).tif\n",
      "imported reference to file: 21414 - LDSE_P26 (Delta n Image).tif\n",
      "imported reference to file: 21414 - LDSE_P26 (Calibrated Lifetime Image).tif\n",
      "imported reference to file: 21389 - LDSE_P07 (Uncalibrated PL Image).tif\n",
      "imported reference to file: 21389 - LDSE_P07 (Delta n Image).tif\n",
      "imported reference to file: 21389 - LDSE_P07 (Calibrated Lifetime Image).tif\n",
      "imported reference to file: 21380 - LDSE_P05 (Calibrated Lifetime Image).tif\n",
      "imported reference to file: 21380 - LDSE_P05 (Uncalibrated PL Image).tif\n",
      "imported reference to file: 21380 - LDSE_P05 (Delta n Image).tif\n",
      "imported reference to file: 21411 - LDSE_P23 (Uncalibrated PL Image).tif\n",
      "imported reference to file: 21411 - LDSE_P23 (Calibrated Lifetime Image).tif\n",
      "imported reference to file: 21411 - LDSE_P23 (Delta n Image).tif\n",
      "imported reference to file: 21386 - LDSE_P28 (Uncalibrated PL Image).tif\n",
      "imported reference to file: 21386 - LDSE_P28 (Calibrated Lifetime Image).tif\n",
      "imported reference to file: 21386 - LDSE_P28 (Delta n Image).tif\n",
      "imported reference to file: 21405 - LDSE_P03 (Calibrated Lifetime Image).tif\n",
      "imported reference to file: 21405 - LDSE_P03 (Delta n Image).tif\n",
      "imported reference to file: 21405 - LDSE_P03 (Uncalibrated PL Image).tif\n",
      "imported reference to file: 21392 - LDSE_P27 (Delta n Image).tif\n",
      "imported reference to file: 21392 - LDSE_P27 (Calibrated Lifetime Image).tif\n",
      "imported reference to file: 21392 - LDSE_P27 (Uncalibrated PL Image).tif\n",
      "\n",
      "file search and import complete\n",
      "\n",
      "48 measurement file references imported\n"
     ]
    }
   ],
   "source": [
    "''' import measurement files '''\n",
    "\n",
    "# define directory to search; \"./\" for current directory, \"../\" for up one directory\n",
    "base_path = '../data/pl-diff/init'\n",
    "\n",
    "# define measurement properties (!required!)\n",
    "props = {\n",
    "    # define measurement properties\n",
    "    'state': 'init',\n",
    "    \n",
    "    # measurement type\n",
    "    'meas_type': 'ocpl', # 'ocpl' for open-circuit photoluminescence\n",
    "    'file_ext': 'tif', # ['tif']\n",
    "    'file_type': 'tif', # ['tif']\n",
    "    \n",
    "    # wafer properties\n",
    "    \n",
    "    # measurement conditions\n",
    "    'exposure': 0.5, # define global pl exposure, read from file if available\n",
    "\n",
    "}\n",
    "\n",
    "# generate measurement file database\n",
    "db = pvlibs.init_file_db(base_path, props)\n"
   ]
  },
  {
   "cell_type": "code",
   "execution_count": 5,
   "metadata": {
    "collapsed": true,
    "jupyter": {
     "outputs_hidden": true
    }
   },
   "outputs": [
    {
     "name": "stdout",
     "output_type": "stream",
     "text": [
      "begin file search and import \n",
      "\n",
      "imported reference to file: 23001 - LDSE_P29 (Delta n Image).tif\n",
      "imported reference to file: 23001 - LDSE_P29 (Uncalibrated PL Image).tif\n",
      "imported reference to file: 23001 - LDSE_P29 (Calibrated Lifetime Image).tif\n",
      "imported reference to file: 23015 - LDSE_P03 (Calibrated Lifetime Image).tif\n",
      "imported reference to file: 23015 - LDSE_P03 (Delta n Image).tif\n",
      "imported reference to file: 23015 - LDSE_P03 (Uncalibrated PL Image).tif\n",
      "imported reference to file: 22999 - LDSE_P08 (Calibrated Lifetime Image).tif\n",
      "imported reference to file: 22999 - LDSE_P08 (Uncalibrated PL Image).tif\n",
      "imported reference to file: 22999 - LDSE_P08 (Delta n Image).tif\n",
      "imported reference to file: 23044 - LDSE_P06 (Delta n Image).tif\n",
      "imported reference to file: 23044 - LDSE_P06 (Calibrated Lifetime Image).tif\n",
      "imported reference to file: 23044 - LDSE_P06 (Uncalibrated PL Image).tif\n",
      "imported reference to file: 22994 - LDSE_P25 (Calibrated Lifetime Image).tif\n",
      "imported reference to file: 22994 - LDSE_P25 (Delta n Image).tif\n",
      "imported reference to file: 22994 - LDSE_P25 (Uncalibrated PL Image).tif\n",
      "imported reference to file: 23046 - LDSE_P05 (Uncalibrated PL Image).tif\n",
      "imported reference to file: 23046 - LDSE_P05 (Delta n Image).tif\n",
      "imported reference to file: 23046 - LDSE_P05 (Calibrated Lifetime Image).tif\n",
      "imported reference to file: 22998 - LDSE_P07 (Delta n Image).tif\n",
      "imported reference to file: 22998 - LDSE_P07 (Uncalibrated PL Image).tif\n",
      "imported reference to file: 22998 - LDSE_P07 (Calibrated Lifetime Image).tif\n",
      "imported reference to file: 23014 - LDSE_P04 (Delta n Image).tif\n",
      "imported reference to file: 23014 - LDSE_P04 (Uncalibrated PL Image).tif\n",
      "imported reference to file: 23014 - LDSE_P04 (Calibrated Lifetime Image).tif\n",
      "imported reference to file: 22995 - LDSE_P26 (Calibrated Lifetime Image).tif\n",
      "imported reference to file: 22995 - LDSE_P26 (Uncalibrated PL Image).tif\n",
      "imported reference to file: 22995 - LDSE_P26 (Delta n Image).tif\n",
      "imported reference to file: 23035 - LDSE_P02 (Delta n Image).tif\n",
      "imported reference to file: 23035 - LDSE_P02 (Uncalibrated PL Image).tif\n",
      "imported reference to file: 23035 - LDSE_P02 (Calibrated Lifetime Image).tif\n",
      "imported reference to file: 23030 - LDSE_P23 (Delta n Image).tif\n",
      "imported reference to file: 23030 - LDSE_P23 (Uncalibrated PL Image).tif\n",
      "imported reference to file: 23030 - LDSE_P23 (Calibrated Lifetime Image).tif\n",
      "imported reference to file: 23031 - LDSE_P24 (Uncalibrated PL Image).tif\n",
      "imported reference to file: 23031 - LDSE_P24 (Calibrated Lifetime Image).tif\n",
      "imported reference to file: 23031 - LDSE_P24 (Delta n Image).tif\n",
      "imported reference to file: 23165 - LDSE_P28 (Delta n Image).tif\n",
      "imported reference to file: 23165 - LDSE_P28 (Uncalibrated PL Image).tif\n",
      "imported reference to file: 23165 - LDSE_P28 (Calibrated Lifetime Image).tif\n",
      "imported reference to file: 23034 - LDSE_P01 (Uncalibrated PL Image).tif\n",
      "imported reference to file: 23034 - LDSE_P01 (Calibrated Lifetime Image).tif\n",
      "imported reference to file: 23034 - LDSE_P01 (Delta n Image).tif\n",
      "imported reference to file: 22997 - LDSE_P44 (Delta n Image).tif\n",
      "imported reference to file: 22997 - LDSE_P44 (Uncalibrated PL Image).tif\n",
      "imported reference to file: 22997 - LDSE_P44 (Calibrated Lifetime Image).tif\n",
      "imported reference to file: 23037 - LDSE_P27 (Calibrated Lifetime Image).tif\n",
      "imported reference to file: 23037 - LDSE_P27 (Uncalibrated PL Image).tif\n",
      "imported reference to file: 23037 - LDSE_P27 (Delta n Image).tif\n",
      "\n",
      "file search and import complete\n",
      "\n",
      "48 measurement file references imported\n"
     ]
    }
   ],
   "source": [
    "''' import measurement files '''\n",
    "\n",
    "# define directory to search; \"./\" for current directory, \"../\" for up one directory\n",
    "base_path = '../data/pl-diff/fired'\n",
    "\n",
    "# define measurement properties (!required!)\n",
    "props = {\n",
    "    # define measurement properties\n",
    "    'state': 'fired',\n",
    "    \n",
    "    # measurement type\n",
    "    'meas_type': 'ocpl', # 'ocpl' for open-circuit photoluminescence\n",
    "    'file_ext': 'tif', # ['tif']\n",
    "    'file_type': 'tif', # ['tif']\n",
    "    \n",
    "    # wafer properties\n",
    "    \n",
    "    # measurement conditions\n",
    "    'exposure': 0.5, # define global pl exposure, read from file if available\n",
    "\n",
    "}\n",
    "\n",
    "# generate measurement file database\n",
    "db = [ *db, *pvlibs.init_file_db(base_path, props) ]\n"
   ]
  },
  {
   "cell_type": "code",
   "execution_count": 6,
   "metadata": {
    "collapsed": true,
    "jupyter": {
     "outputs_hidden": true
    }
   },
   "outputs": [
    {
     "name": "stdout",
     "output_type": "stream",
     "text": [
      "begin file search and import \n",
      "\n",
      "imported reference to file: 26410 - LDSE_P44_0p1s (Delta n Image).tif\n",
      "imported reference to file: 26410 - LDSE_P44_0p1s (Calibrated Lifetime Image).tif\n",
      "imported reference to file: 26410 - LDSE_P44_0p1s (Uncalibrated PL Image).tif\n",
      "imported reference to file: 26397 - LDSE_P03_0p05s (Calibrated Lifetime Image).tif\n",
      "imported reference to file: 26397 - LDSE_P03_0p05s (Delta n Image).tif\n",
      "imported reference to file: 26397 - LDSE_P03_0p05s (Uncalibrated PL Image).tif\n",
      "imported reference to file: 26440 - LDSE_P02_0p1s (Calibrated Lifetime Image).tif\n",
      "imported reference to file: 26440 - LDSE_P02_0p1s (Delta n Image).tif\n",
      "imported reference to file: 26440 - LDSE_P02_0p1s (Uncalibrated PL Image).tif\n",
      "imported reference to file: 26441 - LDSE_P01_0p1s (Delta n Image).tif\n",
      "imported reference to file: 26441 - LDSE_P01_0p1s (Calibrated Lifetime Image).tif\n",
      "imported reference to file: 26441 - LDSE_P01_0p1s (Uncalibrated PL Image).tif\n",
      "imported reference to file: 26398 - LDSE_P04_0p1s (Uncalibrated PL Image).tif\n",
      "imported reference to file: 26398 - LDSE_P04_0p1s (Calibrated Lifetime Image).tif\n",
      "imported reference to file: 26398 - LDSE_P04_0p1s (Delta n Image).tif\n",
      "imported reference to file: 26411 - LDSE_P33_0p1s (Delta n Image).tif\n",
      "imported reference to file: 26411 - LDSE_P33_0p1s (Calibrated Lifetime Image).tif\n",
      "imported reference to file: 26411 - LDSE_P33_0p1s (Uncalibrated PL Image).tif\n",
      "imported reference to file: 26415 - LDSE_P23_0p1s (Calibrated Lifetime Image).tif\n",
      "imported reference to file: 26415 - LDSE_P23_0p1s (Delta n Image).tif\n",
      "imported reference to file: 26415 - LDSE_P23_0p1s (Uncalibrated PL Image).tif\n",
      "imported reference to file: 26433 - LDSE_P06_0p1s (Calibrated Lifetime Image).tif\n",
      "imported reference to file: 26433 - LDSE_P06_0p1s (Uncalibrated PL Image).tif\n",
      "imported reference to file: 26433 - LDSE_P06_0p1s (Delta n Image).tif\n",
      "imported reference to file: 26416 - LDSE_P24_0p1s (Calibrated Lifetime Image).tif\n",
      "imported reference to file: 26416 - LDSE_P24_0p1s (Uncalibrated PL Image).tif\n",
      "imported reference to file: 26416 - LDSE_P24_0p1s (Delta n Image).tif\n",
      "imported reference to file: 26406 - LDSE_P29_0p1s (Delta n Image).tif\n",
      "imported reference to file: 26406 - LDSE_P29_0p1s (Uncalibrated PL Image).tif\n",
      "imported reference to file: 26406 - LDSE_P29_0p1s (Calibrated Lifetime Image).tif\n",
      "imported reference to file: 26412 - LDSE_P26_0p1s (Delta n Image).tif\n",
      "imported reference to file: 26412 - LDSE_P26_0p1s (Uncalibrated PL Image).tif\n",
      "imported reference to file: 26412 - LDSE_P26_0p1s (Calibrated Lifetime Image).tif\n",
      "imported reference to file: 26409 - LDSE_P07_0p1s (Delta n Image).tif\n",
      "imported reference to file: 26409 - LDSE_P07_0p1s (Uncalibrated PL Image).tif\n",
      "imported reference to file: 26409 - LDSE_P07_0p1s (Calibrated Lifetime Image).tif\n",
      "imported reference to file: 26431 - LDSE_P28_0p1s (Uncalibrated PL Image).tif\n",
      "imported reference to file: 26431 - LDSE_P28_0p1s (Calibrated Lifetime Image).tif\n",
      "imported reference to file: 26431 - LDSE_P28_0p1s (Delta n Image).tif\n",
      "imported reference to file: 26438 - LDSE_P27_0p1s (Calibrated Lifetime Image).tif\n",
      "imported reference to file: 26438 - LDSE_P27_0p1s (Delta n Image).tif\n",
      "imported reference to file: 26438 - LDSE_P27_0p1s (Uncalibrated PL Image).tif\n",
      "imported reference to file: 26413 - LDSE_P25_0p1s (Uncalibrated PL Image).tif\n",
      "imported reference to file: 26413 - LDSE_P25_0p1s (Delta n Image).tif\n",
      "imported reference to file: 26413 - LDSE_P25_0p1s (Calibrated Lifetime Image).tif\n",
      "imported reference to file: 26408 - LDSE_P08_0p1s (Uncalibrated PL Image).tif\n",
      "imported reference to file: 26408 - LDSE_P08_0p1s (Calibrated Lifetime Image).tif\n",
      "imported reference to file: 26408 - LDSE_P08_0p1s (Delta n Image).tif\n",
      "\n",
      "file search and import complete\n",
      "\n",
      "48 measurement file references imported\n"
     ]
    }
   ],
   "source": [
    "''' import measurement files '''\n",
    "\n",
    "# define directory to search; \"./\" for current directory, \"../\" for up one directory\n",
    "base_path = '../data/pl-diff/anneal'\n",
    "\n",
    "# define measurement properties (!required!)\n",
    "props = {\n",
    "    # define measurement properties\n",
    "    'state': 'anneal',\n",
    "    \n",
    "    # measurement type\n",
    "    'meas_type': 'ocpl', # 'ocpl' for open-circuit photoluminescence\n",
    "    'file_ext': 'tif', # ['tif']\n",
    "    'file_type': 'tif', # ['tif']\n",
    "    \n",
    "    # wafer properties\n",
    "    \n",
    "    # measurement conditions\n",
    "    'exposure': 0.5, # define global pl exposure, read from file if available\n",
    "\n",
    "}\n",
    "\n",
    "# generate measurement file database\n",
    "db = [ *db, *pvlibs.init_file_db(base_path, props) ]\n"
   ]
  },
  {
   "cell_type": "code",
   "execution_count": 7,
   "metadata": {
    "collapsed": true,
    "jupyter": {
     "outputs_hidden": true
    }
   },
   "outputs": [
    {
     "name": "stdout",
     "output_type": "stream",
     "text": [
      "begin file name parameter parsing \n",
      "\n",
      "parsing: file 1/144\n",
      "parsing: file 2/144\n",
      "parsing: file 3/144\n",
      "parsing: file 4/144\n",
      "parsing: file 5/144\n",
      "parsing: file 6/144\n",
      "parsing: file 7/144\n",
      "parsing: file 8/144\n",
      "parsing: file 9/144\n",
      "parsing: file 10/144\n",
      "parsing: file 11/144\n",
      "parsing: file 12/144\n",
      "parsing: file 13/144\n",
      "parsing: file 14/144\n",
      "parsing: file 15/144\n",
      "parsing: file 16/144\n",
      "parsing: file 17/144\n",
      "parsing: file 18/144\n",
      "parsing: file 19/144\n",
      "parsing: file 20/144\n",
      "parsing: file 21/144\n",
      "parsing: file 22/144\n",
      "parsing: file 23/144\n",
      "parsing: file 24/144\n",
      "parsing: file 25/144\n",
      "parsing: file 26/144\n",
      "parsing: file 27/144\n",
      "parsing: file 28/144\n",
      "parsing: file 29/144\n",
      "parsing: file 30/144\n",
      "parsing: file 31/144\n",
      "parsing: file 32/144\n",
      "parsing: file 33/144\n",
      "parsing: file 34/144\n",
      "parsing: file 35/144\n",
      "parsing: file 36/144\n",
      "parsing: file 37/144\n",
      "parsing: file 38/144\n",
      "parsing: file 39/144\n",
      "parsing: file 40/144\n",
      "parsing: file 41/144\n",
      "parsing: file 42/144\n",
      "parsing: file 43/144\n",
      "parsing: file 44/144\n",
      "parsing: file 45/144\n",
      "parsing: file 46/144\n",
      "parsing: file 47/144\n",
      "parsing: file 48/144\n",
      "parsing: file 49/144\n",
      "parsing: file 50/144\n",
      "parsing: file 51/144\n",
      "parsing: file 52/144\n",
      "parsing: file 53/144\n",
      "parsing: file 54/144\n",
      "parsing: file 55/144\n",
      "parsing: file 56/144\n",
      "parsing: file 57/144\n",
      "parsing: file 58/144\n",
      "parsing: file 59/144\n",
      "parsing: file 60/144\n",
      "parsing: file 61/144\n",
      "parsing: file 62/144\n",
      "parsing: file 63/144\n",
      "parsing: file 64/144\n",
      "parsing: file 65/144\n",
      "parsing: file 66/144\n",
      "parsing: file 67/144\n",
      "parsing: file 68/144\n",
      "parsing: file 69/144\n",
      "parsing: file 70/144\n",
      "parsing: file 71/144\n",
      "parsing: file 72/144\n",
      "parsing: file 73/144\n",
      "parsing: file 74/144\n",
      "parsing: file 75/144\n",
      "parsing: file 76/144\n",
      "parsing: file 77/144\n",
      "parsing: file 78/144\n",
      "parsing: file 79/144\n",
      "parsing: file 80/144\n",
      "parsing: file 81/144\n",
      "parsing: file 82/144\n",
      "parsing: file 83/144\n",
      "parsing: file 84/144\n",
      "parsing: file 85/144\n",
      "parsing: file 86/144\n",
      "parsing: file 87/144\n",
      "parsing: file 88/144\n",
      "parsing: file 89/144\n",
      "parsing: file 90/144\n",
      "parsing: file 91/144\n",
      "parsing: file 92/144\n",
      "parsing: file 93/144\n",
      "parsing: file 94/144\n",
      "parsing: file 95/144\n",
      "parsing: file 96/144\n",
      "parsing: file 97/144\n",
      "parsing: file 98/144\n",
      "parsing: file 99/144\n",
      "parsing: file 100/144\n",
      "parsing: file 101/144\n",
      "parsing: file 102/144\n",
      "parsing: file 103/144\n",
      "parsing: file 104/144\n",
      "parsing: file 105/144\n",
      "parsing: file 106/144\n",
      "parsing: file 107/144\n",
      "parsing: file 108/144\n",
      "parsing: file 109/144\n",
      "parsing: file 110/144\n",
      "parsing: file 111/144\n",
      "parsing: file 112/144\n",
      "parsing: file 113/144\n",
      "parsing: file 114/144\n",
      "parsing: file 115/144\n",
      "parsing: file 116/144\n",
      "parsing: file 117/144\n",
      "parsing: file 118/144\n",
      "parsing: file 119/144\n",
      "parsing: file 120/144\n",
      "parsing: file 121/144\n",
      "parsing: file 122/144\n",
      "parsing: file 123/144\n",
      "parsing: file 124/144\n",
      "parsing: file 125/144\n",
      "parsing: file 126/144\n",
      "parsing: file 127/144\n",
      "parsing: file 128/144\n",
      "parsing: file 129/144\n",
      "parsing: file 130/144\n",
      "parsing: file 131/144\n",
      "parsing: file 132/144\n",
      "parsing: file 133/144\n",
      "parsing: file 134/144\n",
      "parsing: file 135/144\n",
      "parsing: file 136/144\n",
      "parsing: file 137/144\n",
      "parsing: file 138/144\n",
      "parsing: file 139/144\n",
      "parsing: file 140/144\n",
      "parsing: file 141/144\n",
      "parsing: file 142/144\n",
      "parsing: file 143/144\n",
      "parsing: file 144/144\n",
      "\n",
      "file name parameter parsing complete\n",
      "\n",
      "144 file names parsed\n"
     ]
    }
   ],
   "source": [
    "''' parse parameters from file name '''\n",
    "\n",
    "# example: \"h555_fired-830C_D23_TC.ltr\"\n",
    "\n",
    "# define single parameter separator; e.g. '-', '_', or '\\s' (space)\n",
    "param_sep = '\\s'\n",
    "\n",
    "# define ordered list of parameters within filename separated by param_sep\n",
    "params = [\n",
    "    'plid',\n",
    "    'misc1',\n",
    "    'device',\n",
    "    'misc2',\n",
    "    'misc3',\n",
    "    'misc4',\n",
    "]\n",
    "\n",
    "# parse file name parameters from each measurement file\n",
    "db = pvlibs.parse_file_names(db, param_sep, params)\n"
   ]
  },
  {
   "cell_type": "code",
   "execution_count": 8,
   "metadata": {},
   "outputs": [
    {
     "name": "stdout",
     "output_type": "stream",
     "text": [
      "144\n",
      "48\n"
     ]
    }
   ],
   "source": [
    "''' strip images other than ocpl '''\n",
    "\n",
    "print(len(db))\n",
    "\n",
    "# strip non uncal pl images\n",
    "db = [n for n in db if 'Uncalibrated PL Image' in n['file_name']]\n",
    "\n",
    "print(len(db))"
   ]
  },
  {
   "cell_type": "code",
   "execution_count": 9,
   "metadata": {},
   "outputs": [],
   "source": [
    "''' update device name from filename parse'''\n",
    "\n",
    "for node in db:\n",
    "    \n",
    "    a = node['device'].split('_')\n",
    "    \n",
    "    node['diffusion'] = a[0]\n",
    "    node['device'] = a[1]\n"
   ]
  },
  {
   "cell_type": "code",
   "execution_count": 10,
   "metadata": {},
   "outputs": [
    {
     "data": {
      "text/plain": [
       "{'state': 'init',\n",
       " 'meas_type': 'ocpl',\n",
       " 'file_ext': 'tif',\n",
       " 'file_type': 'tif',\n",
       " 'exposure': 0.5,\n",
       " 'file_name': '21391 - LDSE_P08 (Uncalibrated PL Image).tif',\n",
       " 'file_path': '../data/pl-diff/init/LDSE_P08 - 2018-11-08 03-41-24 PM',\n",
       " 'plid': '21391',\n",
       " 'misc1': '-',\n",
       " 'device': 'P08',\n",
       " 'misc2': '(Uncalibrated',\n",
       " 'misc3': 'PL',\n",
       " 'misc4': 'Image)',\n",
       " 'diffusion': 'LDSE'}"
      ]
     },
     "execution_count": 10,
     "metadata": {},
     "output_type": "execute_result"
    }
   ],
   "source": [
    "db[0]"
   ]
  },
  {
   "cell_type": "code",
   "execution_count": 11,
   "metadata": {
    "collapsed": true,
    "jupyter": {
     "outputs_hidden": true
    }
   },
   "outputs": [
    {
     "name": "stdout",
     "output_type": "stream",
     "text": [
      "begin file data import \n",
      "\n",
      "importing: file 1/48\n",
      "importing: file 2/48\n",
      "importing: file 3/48\n",
      "importing: file 4/48\n",
      "importing: file 5/48\n",
      "importing: file 6/48\n",
      "importing: file 7/48\n",
      "importing: file 8/48\n",
      "importing: file 9/48\n",
      "importing: file 10/48\n",
      "importing: file 11/48\n",
      "importing: file 12/48\n",
      "importing: file 13/48\n",
      "importing: file 14/48\n",
      "importing: file 15/48\n",
      "importing: file 16/48\n",
      "importing: file 17/48\n",
      "importing: file 18/48\n",
      "importing: file 19/48\n",
      "importing: file 20/48\n",
      "importing: file 21/48\n",
      "importing: file 22/48\n",
      "importing: file 23/48\n",
      "importing: file 24/48\n",
      "importing: file 25/48\n",
      "importing: file 26/48\n",
      "importing: file 27/48\n",
      "importing: file 28/48\n",
      "importing: file 29/48\n",
      "importing: file 30/48\n",
      "importing: file 31/48\n",
      "importing: file 32/48\n",
      "importing: file 33/48\n",
      "importing: file 34/48\n",
      "importing: file 35/48\n",
      "importing: file 36/48\n",
      "importing: file 37/48\n",
      "importing: file 38/48\n",
      "importing: file 39/48\n",
      "importing: file 40/48\n",
      "importing: file 41/48\n",
      "importing: file 42/48\n",
      "importing: file 43/48\n",
      "importing: file 44/48\n",
      "importing: file 45/48\n",
      "importing: file 46/48\n",
      "importing: file 47/48\n",
      "importing: file 48/48\n",
      "\n",
      "data file import complete\n",
      "\n",
      "data imported from 48 files\n"
     ]
    }
   ],
   "source": [
    "''' import image data '''\n",
    "\n",
    "# import data from files\n",
    "db = pvlibs.import_file_data(db)\n"
   ]
  },
  {
   "cell_type": "code",
   "execution_count": 13,
   "metadata": {},
   "outputs": [
    {
     "data": {
      "text/plain": [
       "{0.05, 0.1}"
      ]
     },
     "execution_count": 13,
     "metadata": {},
     "output_type": "execute_result"
    }
   ],
   "source": [
    "set([n['exposure'] for n in db])"
   ]
  },
  {
   "cell_type": "code",
   "execution_count": 14,
   "metadata": {
    "collapsed": true,
    "jupyter": {
     "outputs_hidden": true
    }
   },
   "outputs": [
    {
     "name": "stdout",
     "output_type": "stream",
     "text": [
      "begin pl image normalisation \n",
      "\n",
      "processing: measurement 1/48\n",
      "processing: measurement 2/48\n",
      "processing: measurement 3/48\n",
      "processing: measurement 4/48\n",
      "processing: measurement 5/48\n",
      "processing: measurement 6/48\n",
      "processing: measurement 7/48\n",
      "processing: measurement 8/48\n",
      "processing: measurement 9/48\n",
      "processing: measurement 10/48\n",
      "processing: measurement 11/48\n",
      "processing: measurement 12/48\n",
      "processing: measurement 13/48\n",
      "processing: measurement 14/48\n",
      "processing: measurement 15/48\n",
      "processing: measurement 16/48\n",
      "processing: measurement 17/48\n",
      "processing: measurement 18/48\n",
      "processing: measurement 19/48\n",
      "processing: measurement 20/48\n",
      "processing: measurement 21/48\n",
      "processing: measurement 22/48\n",
      "processing: measurement 23/48\n",
      "processing: measurement 24/48\n",
      "processing: measurement 25/48\n",
      "processing: measurement 26/48\n",
      "processing: measurement 27/48\n",
      "processing: measurement 28/48\n",
      "processing: measurement 29/48\n",
      "processing: measurement 30/48\n",
      "processing: measurement 31/48\n",
      "processing: measurement 32/48\n",
      "processing: measurement 33/48\n",
      "processing: measurement 34/48\n",
      "processing: measurement 35/48\n",
      "processing: measurement 36/48\n",
      "processing: measurement 37/48\n",
      "processing: measurement 38/48\n",
      "processing: measurement 39/48\n",
      "processing: measurement 40/48\n",
      "processing: measurement 41/48\n",
      "processing: measurement 42/48\n",
      "processing: measurement 43/48\n",
      "processing: measurement 44/48\n",
      "processing: measurement 45/48\n",
      "processing: measurement 46/48\n",
      "processing: measurement 47/48\n",
      "processing: measurement 48/48\n",
      "\n",
      "normalisation complete\n",
      "\n",
      "48 measurements processed\n"
     ]
    }
   ],
   "source": [
    "''' normalise image exposure '''\n",
    "\n",
    "# define reference exposure to normalise (or leave none for auto maximum value)\n",
    "ref_exp = None\n",
    "\n",
    "# normalise pl images to reference exposure\n",
    "db = pvlibs.norm_pl_exposure(db, ref_exp)\n"
   ]
  },
  {
   "cell_type": "code",
   "execution_count": 17,
   "metadata": {},
   "outputs": [
    {
     "data": {
      "text/plain": [
       "[('P24', ['init', 'fired', 'anneal']),\n",
       " ('P29', ['init', 'fired', 'anneal']),\n",
       " ('P26', ['init', 'fired', 'anneal']),\n",
       " ('P25', ['init', 'fired', 'anneal']),\n",
       " ('P44', ['init', 'fired', 'anneal']),\n",
       " ('P28', ['init', 'fired', 'anneal']),\n",
       " ('P04', ['init', 'fired', 'anneal']),\n",
       " ('P08', ['init', 'fired', 'anneal']),\n",
       " ('P07', ['init', 'fired', 'anneal']),\n",
       " ('P02', ['init', 'fired', 'anneal']),\n",
       " ('P01', ['init', 'fired', 'anneal']),\n",
       " ('P03', ['init', 'fired', 'anneal']),\n",
       " ('P06', ['init', 'fired', 'anneal']),\n",
       " ('P23', ['init', 'fired', 'anneal']),\n",
       " ('P27', ['init', 'fired', 'anneal'])]"
      ]
     },
     "execution_count": 17,
     "metadata": {},
     "output_type": "execute_result"
    }
   ],
   "source": [
    "# check for states each device\n",
    "[ (d, [n['state'] for n in db if n['device'] == d]) for d in list(set([ n['device'] for n in db ])) ]\n"
   ]
  },
  {
   "cell_type": "code",
   "execution_count": 16,
   "metadata": {},
   "outputs": [],
   "source": [
    "# drop devices missing all 3 states\n",
    "db = [ n for n in db if n['device'] not in ['P33', 'P05'] ]\n"
   ]
  },
  {
   "cell_type": "code",
   "execution_count": 18,
   "metadata": {},
   "outputs": [],
   "source": [
    "# select nodes by device\n",
    "device = 'P27'\n",
    "\n",
    "# select nodes by device\n",
    "nodes = [ n for n in db if n['device'] in [device] ]\n",
    "\n",
    "# split nodes by device state\n",
    "_init = [ n for n in nodes if n['state'] in ['init'] ][0]\n",
    "_fired = [ n for n in nodes if n['state'] in ['fired'] ][0]\n",
    "_anneal = [ n for n in nodes if n['state'] in ['anneal'] ][0]\n"
   ]
  },
  {
   "cell_type": "code",
   "execution_count": 22,
   "metadata": {},
   "outputs": [
    {
     "name": "stderr",
     "output_type": "stream",
     "text": [
      "/home/brendan/.local/share/virtualenvs/pvlibs-eBwkAMkm/lib/python3.7/site-packages/scipy/ndimage/interpolation.py:611: UserWarning: From scipy 0.13.0, the output shape of zoom() is calculated with round() instead of int() - for these inputs the size of the returned array has changed.\n",
      "  \"the returned array has changed.\", UserWarning)\n"
     ]
    },
    {
     "name": "stdout",
     "output_type": "stream",
     "text": [
      "0.09999999999999898 2.5036674816625917 -7.511002444987775\n"
     ]
    }
   ],
   "source": [
    "''' pre-post image difference '''\n",
    "\n",
    "## select test images\n",
    "ref = _fired['norm_img'] ## control image\n",
    "img = _anneal['norm_img']\n",
    "\n",
    "# calculate aligned image to reference\n",
    "ali = pvlibs.process_data.photoluminescence_image.align_images(img, ref, _mode = 'rough')\n"
   ]
  },
  {
   "cell_type": "code",
   "execution_count": 25,
   "metadata": {},
   "outputs": [
    {
     "data": {
      "application/vnd.jupyter.widget-view+json": {
       "model_id": "998622603d0c455981a2b0012020ffef",
       "version_major": 2,
       "version_minor": 0
      },
      "text/plain": [
       "Canvas(toolbar=Toolbar(toolitems=[('Home', 'Reset original view', 'home', 'home'), ('Back', 'Back to previous …"
      ]
     },
     "metadata": {},
     "output_type": "display_data"
    }
   ],
   "source": [
    "# intialise figure\n",
    "_w =12; _h = 5; fig = plt.figure(figsize = (_w, _h))\n",
    "fig.canvas.layout.width = '{}in'.format(_w); fig.canvas.layout.height= '{}in'.format(_h)\n",
    "\n",
    "# initialise axes\n",
    "n = 3; ax = [ fig.add_subplot(1,n,i+1) for i in list(range(n)) ]\n",
    "for i in range(n):\n",
    "    ax[i].grid(); ax[i].set_xticks([]); ax[i].set_yticks([])\n",
    "\n",
    "\n",
    "# plot reference\n",
    "ax[0].imshow(np.log(ref), cmap='magma')\n",
    "\n",
    "# plot image\n",
    "ax[1].imshow(np.log(img), cmap='magma')\n",
    "\n",
    "\n",
    "# calculate difference image\n",
    "diff = ali - img\n",
    "\n",
    "# plot difference image\n",
    "ax[2].imshow(diff, cmap = 'bone_r')\n",
    "\n",
    "\n",
    "# display figure\n",
    "plt.tight_layout()\n",
    "plt.show()\n"
   ]
  },
  {
   "cell_type": "code",
   "execution_count": null,
   "metadata": {},
   "outputs": [],
   "source": [
    "    \n",
    "# parameter 'state' provided in list\n",
    "\n",
    "['init', 'proc1', 'proc2']\n",
    "\n",
    "\n",
    "\n",
    "# figure of triplet with colorbar, ratio difference for scale % change\n",
    "\n",
    "# save each triplet images as tif\n",
    "\n",
    "# pl stats\n",
    "    # image, ref, diff\n",
    "\n",
    "\n",
    "# overlay histograms for img + ref, separate image hist of difference ratio\n"
   ]
  }
 ],
 "metadata": {
  "kernelspec": {
   "display_name": "pvlibs",
   "language": "python",
   "name": "pvlibs"
  },
  "language_info": {
   "codemirror_mode": {
    "name": "ipython",
    "version": 3
   },
   "file_extension": ".py",
   "mimetype": "text/x-python",
   "name": "python",
   "nbconvert_exporter": "python",
   "pygments_lexer": "ipython3",
   "version": "3.7.4"
  }
 },
 "nbformat": 4,
 "nbformat_minor": 4
}
