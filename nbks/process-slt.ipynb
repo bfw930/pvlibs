{
 "cells": [
  {
   "cell_type": "code",
   "execution_count": null,
   "metadata": {},
   "outputs": [],
   "source": [
    "''' FOR DEVELOPMENT ONLY, DELETE CELL '''\n",
    "\n",
    "# set auto reload imported modules tagged\n",
    "%load_ext autoreload\n",
    "%autoreload 2\n",
    "\n",
    "# data array processing\n",
    "import numpy as np\n",
    "#import pandas as pd\n",
    "\n",
    "# plotting with matplotlib\n",
    "#%matplotlib widget\n",
    "from matplotlib import pyplot as plt\n",
    "\n",
    "## development override params\n",
    "pvlibs_path = '/home/brendan/dev/pvlibs'\n",
    "base_path = '../data/slt'\n"
   ]
  },
  {
   "cell_type": "code",
   "execution_count": null,
   "metadata": {},
   "outputs": [],
   "source": [
    "''' initialise notebook '''\n",
    "\n",
    "# add location to path\n",
    "#pvlibs_path = '/srv/pvlibs'\n",
    "import sys\n",
    "sys.path.append(pvlibs_path)\n",
    "\n",
    "# plotting with matplotlib, set interactive figure display\n",
    "%matplotlib widget\n",
    "\n",
    "# import pvlibs package\n",
    "import pvlibs\n"
   ]
  },
  {
   "cell_type": "code",
   "execution_count": null,
   "metadata": {},
   "outputs": [],
   "source": [
    "''' import measurement files '''\n",
    "\n",
    "# define directory to search; \"./\" for current directory, \"../\" for up one directory\n",
    "#base_path = './'\n",
    "\n",
    "# define measurement properties (!required!)\n",
    "props = {\n",
    "    # measurement type\n",
    "    'meas_type': 'slt', # 'slt' for sinton lifetime\n",
    "    'file_ext': 'ltr', # ['ltr'|'xlsm']\n",
    "    'file_type': 'ltr', # ['ltr'|'xlsm']\n",
    "    \n",
    "    # wafer properties\n",
    "    'wafer_doping_type': 'p-type', # ['p-type'|'n-type']\n",
    "    'wafer_resistivity': 2.0, # [Ohm.cm^2]\n",
    "    'wafer_thickness': .018, # [cm]\n",
    "    'wafer_optical_const': 1.0, # []\n",
    "    \n",
    "    # measurement conditions\n",
    "    'temperature': 298., # [K]\n",
    "    'illumination_mode': 'gen', # ['gen'|'trans']\n",
    "}\n",
    "\n",
    "# generate measurement file database\n",
    "db = pvlibs.init_file_db(base_path, props)\n"
   ]
  },
  {
   "cell_type": "code",
   "execution_count": null,
   "metadata": {},
   "outputs": [],
   "source": [
    "''' parse parameters from file name '''\n",
    "\n",
    "# example: \"h555_fired-830C_D23_TC.ltr\"\n",
    "\n",
    "# define single parameter separator; e.g. '-', '_', or '\\s' (space)\n",
    "param_sep = '-'\n",
    "\n",
    "# define ordered list of parameters within filename separated by param_sep\n",
    "params = [\n",
    "    'misc1',\n",
    "    'misc2',\n",
    "    'proc_temp',\n",
    "    'state',\n",
    "    'proc_time'\n",
    "    'group',\n",
    "    'device',\n",
    "    'region',\n",
    "]\n",
    "\n",
    "# parse file name parameters from each measurement file\n",
    "db = pvlibs.parse_file_names(db, param_sep, params)\n"
   ]
  },
  {
   "cell_type": "code",
   "execution_count": null,
   "metadata": {},
   "outputs": [],
   "source": [
    "''' import measurement data '''\n",
    "\n",
    "# import data from files\n",
    "db = pvlibs.import_file_data(db)\n"
   ]
  },
  {
   "cell_type": "code",
   "execution_count": null,
   "metadata": {},
   "outputs": [],
   "source": [
    "''' process measurement data '''\n",
    "\n",
    "# process measurement data\n",
    "db = pvlibs.process_file_data(db)\n"
   ]
  },
  {
   "cell_type": "code",
   "execution_count": null,
   "metadata": {},
   "outputs": [],
   "source": [
    "''' model sinton lifetime data '''\n",
    "\n",
    "# set measurement process type; 'mlt' for model sinton lifetime\n",
    "meas_type = 'mlt'\n",
    "\n",
    "# define parameters required for process;\n",
    "# 'nd_range' as tuple(min, max) for model fiting charge density range\n",
    "# 'nd_vals' as charge density for parameter extraction (tau_eff, tau_blk), exclude for default (10% doping)\n",
    "params = {\n",
    "    'nd_range': [ 1.0e14, 1.0e17 ],\n",
    "    'nd_vals': 2.0e15,\n",
    "}\n",
    "\n",
    "# process measurement data\n",
    "db = pvlibs.process_file_data(db, meas_type, params)\n"
   ]
  },
  {
   "cell_type": "code",
   "execution_count": null,
   "metadata": {},
   "outputs": [],
   "source": [
    "''' plot sinton lifetime model fit '''\n",
    "\n",
    "# define parameter values to filter by for single node\n",
    "params = {\n",
    "    'device': '09',\n",
    "    'region': '01',\n",
    "}\n",
    "\n",
    "# default plot sinton lifetime model fit; inc. components and print of fit params\n",
    "pvlibs.plot_mlt_fit(db, params)\n"
   ]
  },
  {
   "cell_type": "code",
   "execution_count": null,
   "metadata": {},
   "outputs": [],
   "source": [
    "''' save model fit plots '''\n",
    "\n",
    "# define ordered list of parameters to use for output plot file name\n",
    "params = [\n",
    "    'device',\n",
    "    'region',\n",
    "]\n",
    "\n",
    "# define output file name header\n",
    "file_name_head = './results/lt-fit'\n",
    "\n",
    "# prepare and save each measurement plot to disk\n",
    "pvlibs.save_mlt_fit(db, file_name_head, params)\n"
   ]
  },
  {
   "cell_type": "code",
   "execution_count": null,
   "metadata": {},
   "outputs": [],
   "source": [
    "''' compile and export data'''\n",
    "\n",
    "# define list of measurement labels to export; format each as 'file_name_param': 'Output Label'\n",
    "labels = {\n",
    "    'device': 'Device',\n",
    "    'region': 'Region',\n",
    "}\n",
    "\n",
    "# select values to export; format each as 'param': 'Output Label'\n",
    "values = {\n",
    "    'ivoc': 'iVoc [V]',\n",
    "    'J_0': 'J_0 [A]',\n",
    "    't_eff': 'Tau_Eff [s]',\n",
    "    't_blk': 'Tau_Blk [s]',\n",
    "    'R2': 'Fit [R^2]',\n",
    "    'k_val': 'SRH k-value []',\n",
    "    'pFF': 'pseudo-FF []',\n",
    "}\n",
    "\n",
    "# define results output file name\n",
    "file_name = './results/lt-fit-summary'\n",
    "\n",
    "# compile dataset by selected labels and values\n",
    "data = pvlibs.compile_data(db, labels, values, file_name)\n"
   ]
  },
  {
   "cell_type": "code",
   "execution_count": null,
   "metadata": {},
   "outputs": [],
   "source": [
    "''' save all data '''\n",
    "\n",
    "# define ordered list of parameters to use for data output file name\n",
    "params = [\n",
    "    'device',\n",
    "    'region',\n",
    "]\n",
    "\n",
    "# define output file name header\n",
    "file_name_head = './results/lt-fit'\n",
    "\n",
    "# prepare and save all measurement and calculated data to file\n",
    "pvlibs.save_all_data(db, file_name_head, params)\n"
   ]
  }
 ],
 "metadata": {
  "kernelspec": {
   "display_name": "pvlibs",
   "language": "python",
   "name": "pvlibs"
  },
  "language_info": {
   "codemirror_mode": {
    "name": "ipython",
    "version": 3
   },
   "file_extension": ".py",
   "mimetype": "text/x-python",
   "name": "python",
   "nbconvert_exporter": "python",
   "pygments_lexer": "ipython3",
   "version": "3.7.4"
  }
 },
 "nbformat": 4,
 "nbformat_minor": 4
}
