{
 "cells": [
  {
   "cell_type": "code",
   "execution_count": null,
   "metadata": {},
   "outputs": [],
   "source": [
    "''' FOR DEVELOPMENT ONLY, DELETE CELL '''\n",
    "\n",
    "# set auto reload imported modules tagged\n",
    "%load_ext autoreload\n",
    "%autoreload 2\n",
    "\n",
    "# data array processing\n",
    "import numpy as np\n",
    "#import pandas as pd\n",
    "\n",
    "#from scipy.stats import linregress\n",
    "#from scipy.interpolate import splev, splrep\n",
    "\n",
    "#from scipy.signal import savgol_filter\n",
    "\n",
    "#from scipy.optimize import curve_fit\n",
    "\n",
    "\n",
    "# plotting with matplotlib\n",
    "%matplotlib widget\n",
    "from matplotlib import pyplot as plt\n",
    "\n",
    "#import matplotlib.colors as colors\n",
    "#import matplotlib.cm as cmx\n",
    "\n",
    "import seaborn as sns\n",
    "\n",
    "## development override params\n",
    "pvlibs_path = '/home/brendan/dev/pvlibs'\n",
    "base_path = '../data/iv/halm'\n"
   ]
  },
  {
   "cell_type": "code",
   "execution_count": null,
   "metadata": {},
   "outputs": [],
   "source": [
    "''' initialise notebook '''\n",
    "\n",
    "# add location to path\n",
    "#pvlibs_path = '/srv/pvlibs'\n",
    "import sys\n",
    "sys.path.append(pvlibs_path)\n",
    "\n",
    "# plotting with matplotlib, set interactive figure display\n",
    "%matplotlib widget\n",
    "\n",
    "# import pvlibs package\n",
    "import pvlibs\n"
   ]
  },
  {
   "cell_type": "code",
   "execution_count": null,
   "metadata": {},
   "outputs": [],
   "source": [
    "''' import measurement files '''\n",
    "\n",
    "# define directory to search; \"./\" for current directory, \"../\" for up one directory\n",
    "#base_path = './data'\n",
    "\n",
    "# define measurement properties (!required!)\n",
    "props = {\n",
    "    # measurement type\n",
    "    'meas_type': 'iv', #\n",
    "    'file_ext': 'prn', # ['prn'|'xlsx']\n",
    "    'file_type': 'halm-500', # ['halm-500'|'wavelabs']\n",
    "    \n",
    "    # wafer properties\n",
    "    'wafer_area': .243, # [cm^-2]\n",
    "    \n",
    "    # measurement conditions\n",
    "    'temperature': 298.15,\n",
    "}\n",
    "\n",
    "# generate measurement file database\n",
    "db = pvlibs.init_file_db(base_path, props)\n"
   ]
  },
  {
   "cell_type": "code",
   "execution_count": null,
   "metadata": {},
   "outputs": [],
   "source": [
    "''' parse parameters from file name '''\n",
    "\n",
    "# define single parameter separator; e.g. '-', '_', or '\\s' (space)\n",
    "param_sep = '-'\n",
    "\n",
    "# define ordered list of parameters within filename separated by param_sep\n",
    "params = [\n",
    "    'wafer',\n",
    "    'device',\n",
    "    'side',\n",
    "    'polarity',\n",
    "]\n",
    "\n",
    "# parse file name parameters from each measurement file\n",
    "db = pvlibs.parse_file_names(db, param_sep, params)\n"
   ]
  },
  {
   "cell_type": "code",
   "execution_count": null,
   "metadata": {},
   "outputs": [],
   "source": [
    "set([n['device'] for n in db])"
   ]
  },
  {
   "cell_type": "code",
   "execution_count": null,
   "metadata": {},
   "outputs": [],
   "source": [
    "db[0]"
   ]
  },
  {
   "cell_type": "code",
   "execution_count": null,
   "metadata": {},
   "outputs": [],
   "source": [
    "\n",
    "node = db[0]\n",
    "\n",
    "pvlibs.data_import.core.import_data_file(node['meas_type'], node['file_type'], node['file_path'], node['file_name'])"
   ]
  },
  {
   "cell_type": "code",
   "execution_count": null,
   "metadata": {},
   "outputs": [],
   "source": [
    "''' import measurement data '''\n",
    "\n",
    "# import data from files\n",
    "db = pvlibs.import_file_data(db)\n"
   ]
  },
  {
   "cell_type": "code",
   "execution_count": null,
   "metadata": {},
   "outputs": [],
   "source": [
    "\n",
    "fig = plt.figure()\n",
    "ax = []; ax.append( fig.add_subplot() )#; ax.append( ax[0].twinx() )\n",
    "\n",
    "# select nodes by device id\n",
    "nodes = [ n for n in db if n['device'] == '1' ]\n",
    "#nodes = db[:5]\n",
    "\n",
    "# sort by proc time\n",
    "#nodes = [ nodes[j] for j in np.argsort([nodes[i]['proc_time'] for i in range(len(nodes))]) ]\n",
    "\n",
    "\n",
    "labels = [\n",
    "    'full',\n",
    "    'half',\n",
    "    'dark',\n",
    "    #'shunt',\n",
    "    #'series'\n",
    "]\n",
    "\n",
    "#cnorm  = colors.Normalize(vmin = 0, vmax = len(nodes))\n",
    "#smap = cmx.ScalarMappable(norm = cnorm, cmap = 'magma')\n",
    "\n",
    "for i in range(len(nodes))[::2]:\n",
    "    \n",
    "    d = nodes[i]\n",
    "\n",
    "    for l in labels:\n",
    "\n",
    "        V = d[l]['voltage']\n",
    "        I = -d[l]['current']\n",
    "        #L = d[l]['intensity']\n",
    "\n",
    "        j = np.argsort(V)\n",
    "        V = V[j]\n",
    "        I = I[j]\n",
    "        #L = L[j]\n",
    "\n",
    "        #lbl = '{}'.format(d['proc_time']) if l == labels[0] else None\n",
    "        \n",
    "        #ax[0].plot(V, I, '-', c = smap.to_rgba(i), label = lbl)\n",
    "        ax[0].plot(V, I, '--', linewidth = 2, alpha = .8, label = l)\n",
    "            \n",
    "        #ax[1].plot(V, L, '--')#, c = smap.to_rgba(i))\n",
    "    \n",
    "ax[0].set_xlabel('Voltage (V)')\n",
    "ax[0].set_ylabel('Current (A)')\n",
    "#ax[1].set_ylabel('Illumination Intensity (mW)')\n",
    "\n",
    "#ax[1].set_ylim(-.1, 1.1)\n",
    "\n",
    "#ax[0].set_yscale('log')\n",
    "\n",
    "ax[0].legend()\n",
    "plt.tight_layout()\n",
    "plt.show()\n"
   ]
  },
  {
   "cell_type": "code",
   "execution_count": null,
   "metadata": {},
   "outputs": [],
   "source": [
    "plt.close('all')"
   ]
  },
  {
   "cell_type": "code",
   "execution_count": null,
   "metadata": {},
   "outputs": [],
   "source": [
    "''' process measurement data '''\n",
    "\n",
    "# process measurement data\n",
    "db = pvlibs.process_file_data(db)\n"
   ]
  },
  {
   "cell_type": "code",
   "execution_count": null,
   "metadata": {},
   "outputs": [],
   "source": [
    "''' compile and export data'''\n",
    "\n",
    "# define list of measurement labels to export; format each as 'file_name_param': 'Output Label'\n",
    "labels = {\n",
    "    'wafer': 'Wafer Type',\n",
    "    'device': 'Device',\n",
    "    'side': 'Wafer Side'\n",
    "}\n",
    "\n",
    "# select values to export; format each as 'param': 'Output Label'\n",
    "values = {\n",
    "    'area': 'Area [cm^-2]',\n",
    "    'isc': 'Isc [A]',\n",
    "    'voc': 'Voc [V]',\n",
    "    'pmpp': 'Pmpp [W]',\n",
    "    'impp': 'Impp [I]',\n",
    "    'vmpp': 'Vmpp [V]',\n",
    "    'ff': 'FF []',\n",
    "    'eta': 'Eta [%]',\n",
    "    'rs': 'Rs [Ohm]',\n",
    "    'rp': 'Rp [Ohm]',\n",
    "    'jsc': 'Jsc [A/cm^-2]',\n",
    "    'jmpp': 'Jmpp [A/cm^-2]',\n",
    "    'rs_sqr': 'Rs [Ohm/cm^-2]',\n",
    "    'rp_sqr': 'Rp [Ohm/cm^-2]',\n",
    "}\n",
    "\n",
    "# define results output file name\n",
    "file_name = './iv-summary'\n",
    "\n",
    "# compile dataset by selected labels and values\n",
    "data = pvlibs.compile_data(db, labels, values, file_name)\n"
   ]
  },
  {
   "cell_type": "code",
   "execution_count": null,
   "metadata": {},
   "outputs": [],
   "source": []
  }
 ],
 "metadata": {
  "kernelspec": {
   "display_name": "pvlibs",
   "language": "python",
   "name": "pvlibs"
  },
  "language_info": {
   "codemirror_mode": {
    "name": "ipython",
    "version": 3
   },
   "file_extension": ".py",
   "mimetype": "text/x-python",
   "name": "python",
   "nbconvert_exporter": "python",
   "pygments_lexer": "ipython3",
   "version": "3.8.0"
  }
 },
 "nbformat": 4,
 "nbformat_minor": 4
}
